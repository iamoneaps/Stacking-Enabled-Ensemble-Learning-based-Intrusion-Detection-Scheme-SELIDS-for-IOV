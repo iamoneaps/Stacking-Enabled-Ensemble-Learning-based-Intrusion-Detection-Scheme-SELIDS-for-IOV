{
  "nbformat": 4,
  "nbformat_minor": 0,
  "metadata": {
    "colab": {
      "provenance": []
    },
    "kernelspec": {
      "name": "python3",
      "display_name": "Python 3"
    },
    "language_info": {
      "name": "python"
    }
  },
  "cells": [
    {
      "cell_type": "code",
      "execution_count": 34,
      "metadata": {
        "id": "yZVjJpldarzm"
      },
      "outputs": [],
      "source": [
        "import warnings\n",
        "warnings.filterwarnings(\"ignore\")"
      ]
    },
    {
      "cell_type": "code",
      "source": [
        "!pip install catboost\n",
        "!pip install river"
      ],
      "metadata": {
        "colab": {
          "base_uri": "https://localhost:8080/"
        },
        "id": "tMm7S7ICcSTS",
        "outputId": "ef8ad1f4-1746-44af-fbe6-f154265e418d"
      },
      "execution_count": 35,
      "outputs": [
        {
          "output_type": "stream",
          "name": "stdout",
          "text": [
            "Looking in indexes: https://pypi.org/simple, https://us-python.pkg.dev/colab-wheels/public/simple/\n",
            "Requirement already satisfied: catboost in /usr/local/lib/python3.8/dist-packages (1.1.1)\n",
            "Requirement already satisfied: matplotlib in /usr/local/lib/python3.8/dist-packages (from catboost) (3.2.2)\n",
            "Requirement already satisfied: six in /usr/local/lib/python3.8/dist-packages (from catboost) (1.15.0)\n",
            "Requirement already satisfied: graphviz in /usr/local/lib/python3.8/dist-packages (from catboost) (0.10.1)\n",
            "Requirement already satisfied: scipy in /usr/local/lib/python3.8/dist-packages (from catboost) (1.10.0)\n",
            "Requirement already satisfied: plotly in /usr/local/lib/python3.8/dist-packages (from catboost) (5.5.0)\n",
            "Requirement already satisfied: numpy>=1.16.0 in /usr/local/lib/python3.8/dist-packages (from catboost) (1.24.2)\n",
            "Requirement already satisfied: pandas>=0.24.0 in /usr/local/lib/python3.8/dist-packages (from catboost) (1.3.5)\n",
            "Requirement already satisfied: pytz>=2017.3 in /usr/local/lib/python3.8/dist-packages (from pandas>=0.24.0->catboost) (2022.7.1)\n",
            "Requirement already satisfied: python-dateutil>=2.7.3 in /usr/local/lib/python3.8/dist-packages (from pandas>=0.24.0->catboost) (2.8.2)\n",
            "Requirement already satisfied: pyparsing!=2.0.4,!=2.1.2,!=2.1.6,>=2.0.1 in /usr/local/lib/python3.8/dist-packages (from matplotlib->catboost) (3.0.9)\n",
            "Requirement already satisfied: cycler>=0.10 in /usr/local/lib/python3.8/dist-packages (from matplotlib->catboost) (0.11.0)\n",
            "Requirement already satisfied: kiwisolver>=1.0.1 in /usr/local/lib/python3.8/dist-packages (from matplotlib->catboost) (1.4.4)\n",
            "Requirement already satisfied: tenacity>=6.2.0 in /usr/local/lib/python3.8/dist-packages (from plotly->catboost) (8.2.0)\n",
            "Looking in indexes: https://pypi.org/simple, https://us-python.pkg.dev/colab-wheels/public/simple/\n",
            "Requirement already satisfied: river in /usr/local/lib/python3.8/dist-packages (0.15.0)\n",
            "Requirement already satisfied: pandas>=1.3 in /usr/local/lib/python3.8/dist-packages (from river) (1.3.5)\n",
            "Requirement already satisfied: scipy>=1.5 in /usr/local/lib/python3.8/dist-packages (from river) (1.10.0)\n",
            "Requirement already satisfied: numpy>=1.24.1 in /usr/local/lib/python3.8/dist-packages (from river) (1.24.2)\n",
            "Requirement already satisfied: python-dateutil>=2.7.3 in /usr/local/lib/python3.8/dist-packages (from pandas>=1.3->river) (2.8.2)\n",
            "Requirement already satisfied: pytz>=2017.3 in /usr/local/lib/python3.8/dist-packages (from pandas>=1.3->river) (2022.7.1)\n",
            "Requirement already satisfied: six>=1.5 in /usr/local/lib/python3.8/dist-packages (from python-dateutil>=2.7.3->pandas>=1.3->river) (1.15.0)\n"
          ]
        }
      ]
    },
    {
      "cell_type": "code",
      "source": [
        "import pandas as pd\n",
        "import numpy as np\n",
        "import matplotlib.pyplot as plt\n",
        "import seaborn as sns\n",
        "from sklearn.model_selection import train_test_split\n",
        "from sklearn.metrics import classification_report,confusion_matrix,accuracy_score, precision_score, recall_score, f1_score\n",
        "import lightgbm as lgb\n",
        "import catboost as cbt\n",
        "import xgboost as xgb\n",
        "import time\n",
        "from river import stream\n",
        "from statistics import mode"
      ],
      "metadata": {
        "id": "5KAv3zgRcNtf"
      },
      "execution_count": 36,
      "outputs": []
    },
    {
      "cell_type": "code",
      "source": [
        "df = pd.read_csv(\"/content/CAN Intrusion detection sampled data_new.csv\")"
      ],
      "metadata": {
        "id": "N1Oawh-vchTn"
      },
      "execution_count": 37,
      "outputs": []
    },
    {
      "cell_type": "code",
      "source": [
        "df"
      ],
      "metadata": {
        "colab": {
          "base_uri": "https://localhost:8080/",
          "height": 424
        },
        "id": "OxeGNb_ndMzx",
        "outputId": "b2547bd1-b4cc-44c0-b536-ee0502e3ad2a"
      },
      "execution_count": 38,
      "outputs": [
        {
          "output_type": "execute_result",
          "data": {
            "text/plain": [
              "        CAN ID  DATA[0]  DATA[1]  DATA[2]  DATA[3]  DATA[4]  DATA[5]  DATA[6]  \\\n",
              "0         1201       41       39       39       35        0        0        0   \n",
              "1          809       64      187      127       20       17       32        0   \n",
              "2         1349      216        0        0      136        0        0        0   \n",
              "3         1201       41       39       39       35        0        0        0   \n",
              "4            2        0        0        0        0        0        3        2   \n",
              "...        ...      ...      ...      ...      ...      ...      ...      ...   \n",
              "818435     848        5       32       52      104      117        0        0   \n",
              "818436    1088      255        0        0        0      255      134        9   \n",
              "818437     848        5       32      100      104      117        0        0   \n",
              "818438    1349      216       90        0      137        0        0        0   \n",
              "818439     790        5       33       48       10       33       30        0   \n",
              "\n",
              "        DATA[7]  Label  \n",
              "0           154      0  \n",
              "1            20      0  \n",
              "2             0      0  \n",
              "3           154      0  \n",
              "4           228      0  \n",
              "...         ...    ...  \n",
              "818435       12      0  \n",
              "818436        0      0  \n",
              "818437       92      0  \n",
              "818438        0      0  \n",
              "818439      111      0  \n",
              "\n",
              "[818440 rows x 10 columns]"
            ],
            "text/html": [
              "\n",
              "  <div id=\"df-e13af6a3-5812-46aa-8d2d-3eafac28a1c1\">\n",
              "    <div class=\"colab-df-container\">\n",
              "      <div>\n",
              "<style scoped>\n",
              "    .dataframe tbody tr th:only-of-type {\n",
              "        vertical-align: middle;\n",
              "    }\n",
              "\n",
              "    .dataframe tbody tr th {\n",
              "        vertical-align: top;\n",
              "    }\n",
              "\n",
              "    .dataframe thead th {\n",
              "        text-align: right;\n",
              "    }\n",
              "</style>\n",
              "<table border=\"1\" class=\"dataframe\">\n",
              "  <thead>\n",
              "    <tr style=\"text-align: right;\">\n",
              "      <th></th>\n",
              "      <th>CAN ID</th>\n",
              "      <th>DATA[0]</th>\n",
              "      <th>DATA[1]</th>\n",
              "      <th>DATA[2]</th>\n",
              "      <th>DATA[3]</th>\n",
              "      <th>DATA[4]</th>\n",
              "      <th>DATA[5]</th>\n",
              "      <th>DATA[6]</th>\n",
              "      <th>DATA[7]</th>\n",
              "      <th>Label</th>\n",
              "    </tr>\n",
              "  </thead>\n",
              "  <tbody>\n",
              "    <tr>\n",
              "      <th>0</th>\n",
              "      <td>1201</td>\n",
              "      <td>41</td>\n",
              "      <td>39</td>\n",
              "      <td>39</td>\n",
              "      <td>35</td>\n",
              "      <td>0</td>\n",
              "      <td>0</td>\n",
              "      <td>0</td>\n",
              "      <td>154</td>\n",
              "      <td>0</td>\n",
              "    </tr>\n",
              "    <tr>\n",
              "      <th>1</th>\n",
              "      <td>809</td>\n",
              "      <td>64</td>\n",
              "      <td>187</td>\n",
              "      <td>127</td>\n",
              "      <td>20</td>\n",
              "      <td>17</td>\n",
              "      <td>32</td>\n",
              "      <td>0</td>\n",
              "      <td>20</td>\n",
              "      <td>0</td>\n",
              "    </tr>\n",
              "    <tr>\n",
              "      <th>2</th>\n",
              "      <td>1349</td>\n",
              "      <td>216</td>\n",
              "      <td>0</td>\n",
              "      <td>0</td>\n",
              "      <td>136</td>\n",
              "      <td>0</td>\n",
              "      <td>0</td>\n",
              "      <td>0</td>\n",
              "      <td>0</td>\n",
              "      <td>0</td>\n",
              "    </tr>\n",
              "    <tr>\n",
              "      <th>3</th>\n",
              "      <td>1201</td>\n",
              "      <td>41</td>\n",
              "      <td>39</td>\n",
              "      <td>39</td>\n",
              "      <td>35</td>\n",
              "      <td>0</td>\n",
              "      <td>0</td>\n",
              "      <td>0</td>\n",
              "      <td>154</td>\n",
              "      <td>0</td>\n",
              "    </tr>\n",
              "    <tr>\n",
              "      <th>4</th>\n",
              "      <td>2</td>\n",
              "      <td>0</td>\n",
              "      <td>0</td>\n",
              "      <td>0</td>\n",
              "      <td>0</td>\n",
              "      <td>0</td>\n",
              "      <td>3</td>\n",
              "      <td>2</td>\n",
              "      <td>228</td>\n",
              "      <td>0</td>\n",
              "    </tr>\n",
              "    <tr>\n",
              "      <th>...</th>\n",
              "      <td>...</td>\n",
              "      <td>...</td>\n",
              "      <td>...</td>\n",
              "      <td>...</td>\n",
              "      <td>...</td>\n",
              "      <td>...</td>\n",
              "      <td>...</td>\n",
              "      <td>...</td>\n",
              "      <td>...</td>\n",
              "      <td>...</td>\n",
              "    </tr>\n",
              "    <tr>\n",
              "      <th>818435</th>\n",
              "      <td>848</td>\n",
              "      <td>5</td>\n",
              "      <td>32</td>\n",
              "      <td>52</td>\n",
              "      <td>104</td>\n",
              "      <td>117</td>\n",
              "      <td>0</td>\n",
              "      <td>0</td>\n",
              "      <td>12</td>\n",
              "      <td>0</td>\n",
              "    </tr>\n",
              "    <tr>\n",
              "      <th>818436</th>\n",
              "      <td>1088</td>\n",
              "      <td>255</td>\n",
              "      <td>0</td>\n",
              "      <td>0</td>\n",
              "      <td>0</td>\n",
              "      <td>255</td>\n",
              "      <td>134</td>\n",
              "      <td>9</td>\n",
              "      <td>0</td>\n",
              "      <td>0</td>\n",
              "    </tr>\n",
              "    <tr>\n",
              "      <th>818437</th>\n",
              "      <td>848</td>\n",
              "      <td>5</td>\n",
              "      <td>32</td>\n",
              "      <td>100</td>\n",
              "      <td>104</td>\n",
              "      <td>117</td>\n",
              "      <td>0</td>\n",
              "      <td>0</td>\n",
              "      <td>92</td>\n",
              "      <td>0</td>\n",
              "    </tr>\n",
              "    <tr>\n",
              "      <th>818438</th>\n",
              "      <td>1349</td>\n",
              "      <td>216</td>\n",
              "      <td>90</td>\n",
              "      <td>0</td>\n",
              "      <td>137</td>\n",
              "      <td>0</td>\n",
              "      <td>0</td>\n",
              "      <td>0</td>\n",
              "      <td>0</td>\n",
              "      <td>0</td>\n",
              "    </tr>\n",
              "    <tr>\n",
              "      <th>818439</th>\n",
              "      <td>790</td>\n",
              "      <td>5</td>\n",
              "      <td>33</td>\n",
              "      <td>48</td>\n",
              "      <td>10</td>\n",
              "      <td>33</td>\n",
              "      <td>30</td>\n",
              "      <td>0</td>\n",
              "      <td>111</td>\n",
              "      <td>0</td>\n",
              "    </tr>\n",
              "  </tbody>\n",
              "</table>\n",
              "<p>818440 rows × 10 columns</p>\n",
              "</div>\n",
              "      <button class=\"colab-df-convert\" onclick=\"convertToInteractive('df-e13af6a3-5812-46aa-8d2d-3eafac28a1c1')\"\n",
              "              title=\"Convert this dataframe to an interactive table.\"\n",
              "              style=\"display:none;\">\n",
              "        \n",
              "  <svg xmlns=\"http://www.w3.org/2000/svg\" height=\"24px\"viewBox=\"0 0 24 24\"\n",
              "       width=\"24px\">\n",
              "    <path d=\"M0 0h24v24H0V0z\" fill=\"none\"/>\n",
              "    <path d=\"M18.56 5.44l.94 2.06.94-2.06 2.06-.94-2.06-.94-.94-2.06-.94 2.06-2.06.94zm-11 1L8.5 8.5l.94-2.06 2.06-.94-2.06-.94L8.5 2.5l-.94 2.06-2.06.94zm10 10l.94 2.06.94-2.06 2.06-.94-2.06-.94-.94-2.06-.94 2.06-2.06.94z\"/><path d=\"M17.41 7.96l-1.37-1.37c-.4-.4-.92-.59-1.43-.59-.52 0-1.04.2-1.43.59L10.3 9.45l-7.72 7.72c-.78.78-.78 2.05 0 2.83L4 21.41c.39.39.9.59 1.41.59.51 0 1.02-.2 1.41-.59l7.78-7.78 2.81-2.81c.8-.78.8-2.07 0-2.86zM5.41 20L4 18.59l7.72-7.72 1.47 1.35L5.41 20z\"/>\n",
              "  </svg>\n",
              "      </button>\n",
              "      \n",
              "  <style>\n",
              "    .colab-df-container {\n",
              "      display:flex;\n",
              "      flex-wrap:wrap;\n",
              "      gap: 12px;\n",
              "    }\n",
              "\n",
              "    .colab-df-convert {\n",
              "      background-color: #E8F0FE;\n",
              "      border: none;\n",
              "      border-radius: 50%;\n",
              "      cursor: pointer;\n",
              "      display: none;\n",
              "      fill: #1967D2;\n",
              "      height: 32px;\n",
              "      padding: 0 0 0 0;\n",
              "      width: 32px;\n",
              "    }\n",
              "\n",
              "    .colab-df-convert:hover {\n",
              "      background-color: #E2EBFA;\n",
              "      box-shadow: 0px 1px 2px rgba(60, 64, 67, 0.3), 0px 1px 3px 1px rgba(60, 64, 67, 0.15);\n",
              "      fill: #174EA6;\n",
              "    }\n",
              "\n",
              "    [theme=dark] .colab-df-convert {\n",
              "      background-color: #3B4455;\n",
              "      fill: #D2E3FC;\n",
              "    }\n",
              "\n",
              "    [theme=dark] .colab-df-convert:hover {\n",
              "      background-color: #434B5C;\n",
              "      box-shadow: 0px 1px 3px 1px rgba(0, 0, 0, 0.15);\n",
              "      filter: drop-shadow(0px 1px 2px rgba(0, 0, 0, 0.3));\n",
              "      fill: #FFFFFF;\n",
              "    }\n",
              "  </style>\n",
              "\n",
              "      <script>\n",
              "        const buttonEl =\n",
              "          document.querySelector('#df-e13af6a3-5812-46aa-8d2d-3eafac28a1c1 button.colab-df-convert');\n",
              "        buttonEl.style.display =\n",
              "          google.colab.kernel.accessAllowed ? 'block' : 'none';\n",
              "\n",
              "        async function convertToInteractive(key) {\n",
              "          const element = document.querySelector('#df-e13af6a3-5812-46aa-8d2d-3eafac28a1c1');\n",
              "          const dataTable =\n",
              "            await google.colab.kernel.invokeFunction('convertToInteractive',\n",
              "                                                     [key], {});\n",
              "          if (!dataTable) return;\n",
              "\n",
              "          const docLinkHtml = 'Like what you see? Visit the ' +\n",
              "            '<a target=\"_blank\" href=https://colab.research.google.com/notebooks/data_table.ipynb>data table notebook</a>'\n",
              "            + ' to learn more about interactive tables.';\n",
              "          element.innerHTML = '';\n",
              "          dataTable['output_type'] = 'display_data';\n",
              "          await google.colab.output.renderOutput(dataTable, element);\n",
              "          const docLink = document.createElement('div');\n",
              "          docLink.innerHTML = docLinkHtml;\n",
              "          element.appendChild(docLink);\n",
              "        }\n",
              "      </script>\n",
              "    </div>\n",
              "  </div>\n",
              "  "
            ]
          },
          "metadata": {},
          "execution_count": 38
        }
      ]
    },
    {
      "cell_type": "code",
      "source": [
        "df.drop(df.columns[df.columns.str.contains('unnamed',case = False)],axis = 1, inplace = True)"
      ],
      "metadata": {
        "id": "0DR22PBtdbeP"
      },
      "execution_count": 39,
      "outputs": []
    },
    {
      "cell_type": "code",
      "source": [
        "df"
      ],
      "metadata": {
        "colab": {
          "base_uri": "https://localhost:8080/",
          "height": 424
        },
        "id": "q8pxU7kcd7Ze",
        "outputId": "0037f8fe-2736-4c44-a7bc-1ea58227e337"
      },
      "execution_count": 40,
      "outputs": [
        {
          "output_type": "execute_result",
          "data": {
            "text/plain": [
              "        CAN ID  DATA[0]  DATA[1]  DATA[2]  DATA[3]  DATA[4]  DATA[5]  DATA[6]  \\\n",
              "0         1201       41       39       39       35        0        0        0   \n",
              "1          809       64      187      127       20       17       32        0   \n",
              "2         1349      216        0        0      136        0        0        0   \n",
              "3         1201       41       39       39       35        0        0        0   \n",
              "4            2        0        0        0        0        0        3        2   \n",
              "...        ...      ...      ...      ...      ...      ...      ...      ...   \n",
              "818435     848        5       32       52      104      117        0        0   \n",
              "818436    1088      255        0        0        0      255      134        9   \n",
              "818437     848        5       32      100      104      117        0        0   \n",
              "818438    1349      216       90        0      137        0        0        0   \n",
              "818439     790        5       33       48       10       33       30        0   \n",
              "\n",
              "        DATA[7]  Label  \n",
              "0           154      0  \n",
              "1            20      0  \n",
              "2             0      0  \n",
              "3           154      0  \n",
              "4           228      0  \n",
              "...         ...    ...  \n",
              "818435       12      0  \n",
              "818436        0      0  \n",
              "818437       92      0  \n",
              "818438        0      0  \n",
              "818439      111      0  \n",
              "\n",
              "[818440 rows x 10 columns]"
            ],
            "text/html": [
              "\n",
              "  <div id=\"df-04348528-d9d7-4529-92ed-e5c96dc25518\">\n",
              "    <div class=\"colab-df-container\">\n",
              "      <div>\n",
              "<style scoped>\n",
              "    .dataframe tbody tr th:only-of-type {\n",
              "        vertical-align: middle;\n",
              "    }\n",
              "\n",
              "    .dataframe tbody tr th {\n",
              "        vertical-align: top;\n",
              "    }\n",
              "\n",
              "    .dataframe thead th {\n",
              "        text-align: right;\n",
              "    }\n",
              "</style>\n",
              "<table border=\"1\" class=\"dataframe\">\n",
              "  <thead>\n",
              "    <tr style=\"text-align: right;\">\n",
              "      <th></th>\n",
              "      <th>CAN ID</th>\n",
              "      <th>DATA[0]</th>\n",
              "      <th>DATA[1]</th>\n",
              "      <th>DATA[2]</th>\n",
              "      <th>DATA[3]</th>\n",
              "      <th>DATA[4]</th>\n",
              "      <th>DATA[5]</th>\n",
              "      <th>DATA[6]</th>\n",
              "      <th>DATA[7]</th>\n",
              "      <th>Label</th>\n",
              "    </tr>\n",
              "  </thead>\n",
              "  <tbody>\n",
              "    <tr>\n",
              "      <th>0</th>\n",
              "      <td>1201</td>\n",
              "      <td>41</td>\n",
              "      <td>39</td>\n",
              "      <td>39</td>\n",
              "      <td>35</td>\n",
              "      <td>0</td>\n",
              "      <td>0</td>\n",
              "      <td>0</td>\n",
              "      <td>154</td>\n",
              "      <td>0</td>\n",
              "    </tr>\n",
              "    <tr>\n",
              "      <th>1</th>\n",
              "      <td>809</td>\n",
              "      <td>64</td>\n",
              "      <td>187</td>\n",
              "      <td>127</td>\n",
              "      <td>20</td>\n",
              "      <td>17</td>\n",
              "      <td>32</td>\n",
              "      <td>0</td>\n",
              "      <td>20</td>\n",
              "      <td>0</td>\n",
              "    </tr>\n",
              "    <tr>\n",
              "      <th>2</th>\n",
              "      <td>1349</td>\n",
              "      <td>216</td>\n",
              "      <td>0</td>\n",
              "      <td>0</td>\n",
              "      <td>136</td>\n",
              "      <td>0</td>\n",
              "      <td>0</td>\n",
              "      <td>0</td>\n",
              "      <td>0</td>\n",
              "      <td>0</td>\n",
              "    </tr>\n",
              "    <tr>\n",
              "      <th>3</th>\n",
              "      <td>1201</td>\n",
              "      <td>41</td>\n",
              "      <td>39</td>\n",
              "      <td>39</td>\n",
              "      <td>35</td>\n",
              "      <td>0</td>\n",
              "      <td>0</td>\n",
              "      <td>0</td>\n",
              "      <td>154</td>\n",
              "      <td>0</td>\n",
              "    </tr>\n",
              "    <tr>\n",
              "      <th>4</th>\n",
              "      <td>2</td>\n",
              "      <td>0</td>\n",
              "      <td>0</td>\n",
              "      <td>0</td>\n",
              "      <td>0</td>\n",
              "      <td>0</td>\n",
              "      <td>3</td>\n",
              "      <td>2</td>\n",
              "      <td>228</td>\n",
              "      <td>0</td>\n",
              "    </tr>\n",
              "    <tr>\n",
              "      <th>...</th>\n",
              "      <td>...</td>\n",
              "      <td>...</td>\n",
              "      <td>...</td>\n",
              "      <td>...</td>\n",
              "      <td>...</td>\n",
              "      <td>...</td>\n",
              "      <td>...</td>\n",
              "      <td>...</td>\n",
              "      <td>...</td>\n",
              "      <td>...</td>\n",
              "    </tr>\n",
              "    <tr>\n",
              "      <th>818435</th>\n",
              "      <td>848</td>\n",
              "      <td>5</td>\n",
              "      <td>32</td>\n",
              "      <td>52</td>\n",
              "      <td>104</td>\n",
              "      <td>117</td>\n",
              "      <td>0</td>\n",
              "      <td>0</td>\n",
              "      <td>12</td>\n",
              "      <td>0</td>\n",
              "    </tr>\n",
              "    <tr>\n",
              "      <th>818436</th>\n",
              "      <td>1088</td>\n",
              "      <td>255</td>\n",
              "      <td>0</td>\n",
              "      <td>0</td>\n",
              "      <td>0</td>\n",
              "      <td>255</td>\n",
              "      <td>134</td>\n",
              "      <td>9</td>\n",
              "      <td>0</td>\n",
              "      <td>0</td>\n",
              "    </tr>\n",
              "    <tr>\n",
              "      <th>818437</th>\n",
              "      <td>848</td>\n",
              "      <td>5</td>\n",
              "      <td>32</td>\n",
              "      <td>100</td>\n",
              "      <td>104</td>\n",
              "      <td>117</td>\n",
              "      <td>0</td>\n",
              "      <td>0</td>\n",
              "      <td>92</td>\n",
              "      <td>0</td>\n",
              "    </tr>\n",
              "    <tr>\n",
              "      <th>818438</th>\n",
              "      <td>1349</td>\n",
              "      <td>216</td>\n",
              "      <td>90</td>\n",
              "      <td>0</td>\n",
              "      <td>137</td>\n",
              "      <td>0</td>\n",
              "      <td>0</td>\n",
              "      <td>0</td>\n",
              "      <td>0</td>\n",
              "      <td>0</td>\n",
              "    </tr>\n",
              "    <tr>\n",
              "      <th>818439</th>\n",
              "      <td>790</td>\n",
              "      <td>5</td>\n",
              "      <td>33</td>\n",
              "      <td>48</td>\n",
              "      <td>10</td>\n",
              "      <td>33</td>\n",
              "      <td>30</td>\n",
              "      <td>0</td>\n",
              "      <td>111</td>\n",
              "      <td>0</td>\n",
              "    </tr>\n",
              "  </tbody>\n",
              "</table>\n",
              "<p>818440 rows × 10 columns</p>\n",
              "</div>\n",
              "      <button class=\"colab-df-convert\" onclick=\"convertToInteractive('df-04348528-d9d7-4529-92ed-e5c96dc25518')\"\n",
              "              title=\"Convert this dataframe to an interactive table.\"\n",
              "              style=\"display:none;\">\n",
              "        \n",
              "  <svg xmlns=\"http://www.w3.org/2000/svg\" height=\"24px\"viewBox=\"0 0 24 24\"\n",
              "       width=\"24px\">\n",
              "    <path d=\"M0 0h24v24H0V0z\" fill=\"none\"/>\n",
              "    <path d=\"M18.56 5.44l.94 2.06.94-2.06 2.06-.94-2.06-.94-.94-2.06-.94 2.06-2.06.94zm-11 1L8.5 8.5l.94-2.06 2.06-.94-2.06-.94L8.5 2.5l-.94 2.06-2.06.94zm10 10l.94 2.06.94-2.06 2.06-.94-2.06-.94-.94-2.06-.94 2.06-2.06.94z\"/><path d=\"M17.41 7.96l-1.37-1.37c-.4-.4-.92-.59-1.43-.59-.52 0-1.04.2-1.43.59L10.3 9.45l-7.72 7.72c-.78.78-.78 2.05 0 2.83L4 21.41c.39.39.9.59 1.41.59.51 0 1.02-.2 1.41-.59l7.78-7.78 2.81-2.81c.8-.78.8-2.07 0-2.86zM5.41 20L4 18.59l7.72-7.72 1.47 1.35L5.41 20z\"/>\n",
              "  </svg>\n",
              "      </button>\n",
              "      \n",
              "  <style>\n",
              "    .colab-df-container {\n",
              "      display:flex;\n",
              "      flex-wrap:wrap;\n",
              "      gap: 12px;\n",
              "    }\n",
              "\n",
              "    .colab-df-convert {\n",
              "      background-color: #E8F0FE;\n",
              "      border: none;\n",
              "      border-radius: 50%;\n",
              "      cursor: pointer;\n",
              "      display: none;\n",
              "      fill: #1967D2;\n",
              "      height: 32px;\n",
              "      padding: 0 0 0 0;\n",
              "      width: 32px;\n",
              "    }\n",
              "\n",
              "    .colab-df-convert:hover {\n",
              "      background-color: #E2EBFA;\n",
              "      box-shadow: 0px 1px 2px rgba(60, 64, 67, 0.3), 0px 1px 3px 1px rgba(60, 64, 67, 0.15);\n",
              "      fill: #174EA6;\n",
              "    }\n",
              "\n",
              "    [theme=dark] .colab-df-convert {\n",
              "      background-color: #3B4455;\n",
              "      fill: #D2E3FC;\n",
              "    }\n",
              "\n",
              "    [theme=dark] .colab-df-convert:hover {\n",
              "      background-color: #434B5C;\n",
              "      box-shadow: 0px 1px 3px 1px rgba(0, 0, 0, 0.15);\n",
              "      filter: drop-shadow(0px 1px 2px rgba(0, 0, 0, 0.3));\n",
              "      fill: #FFFFFF;\n",
              "    }\n",
              "  </style>\n",
              "\n",
              "      <script>\n",
              "        const buttonEl =\n",
              "          document.querySelector('#df-04348528-d9d7-4529-92ed-e5c96dc25518 button.colab-df-convert');\n",
              "        buttonEl.style.display =\n",
              "          google.colab.kernel.accessAllowed ? 'block' : 'none';\n",
              "\n",
              "        async function convertToInteractive(key) {\n",
              "          const element = document.querySelector('#df-04348528-d9d7-4529-92ed-e5c96dc25518');\n",
              "          const dataTable =\n",
              "            await google.colab.kernel.invokeFunction('convertToInteractive',\n",
              "                                                     [key], {});\n",
              "          if (!dataTable) return;\n",
              "\n",
              "          const docLinkHtml = 'Like what you see? Visit the ' +\n",
              "            '<a target=\"_blank\" href=https://colab.research.google.com/notebooks/data_table.ipynb>data table notebook</a>'\n",
              "            + ' to learn more about interactive tables.';\n",
              "          element.innerHTML = '';\n",
              "          dataTable['output_type'] = 'display_data';\n",
              "          await google.colab.output.renderOutput(dataTable, element);\n",
              "          const docLink = document.createElement('div');\n",
              "          docLink.innerHTML = docLinkHtml;\n",
              "          element.appendChild(docLink);\n",
              "        }\n",
              "      </script>\n",
              "    </div>\n",
              "  </div>\n",
              "  "
            ]
          },
          "metadata": {},
          "execution_count": 40
        }
      ]
    },
    {
      "cell_type": "code",
      "source": [
        "df.Label.value_counts()"
      ],
      "metadata": {
        "colab": {
          "base_uri": "https://localhost:8080/"
        },
        "id": "2HKaZtsLcnSv",
        "outputId": "eb32f928-1301-48d9-a006-3e5cdd59e45f"
      },
      "execution_count": 41,
      "outputs": [
        {
          "output_type": "execute_result",
          "data": {
            "text/plain": [
              "0    701832\n",
              "1     32539\n",
              "2     29944\n",
              "4     29501\n",
              "3     24624\n",
              "Name: Label, dtype: int64"
            ]
          },
          "metadata": {},
          "execution_count": 41
        }
      ]
    },
    {
      "cell_type": "code",
      "source": [
        "X = df.drop(['Label'],axis=1)\n",
        "y = df['Label']\n",
        "X_train, X_test, y_train, y_test = train_test_split(X,y, train_size = 0.8, test_size = 0.2, random_state = 0)"
      ],
      "metadata": {
        "id": "nSWCTlobcqg_"
      },
      "execution_count": 42,
      "outputs": []
    },
    {
      "cell_type": "code",
      "source": [
        "pd.Series(y_train).value_counts()"
      ],
      "metadata": {
        "colab": {
          "base_uri": "https://localhost:8080/"
        },
        "id": "YrlCr907cuNP",
        "outputId": "95397b73-9de0-4afb-b590-54541c30b245"
      },
      "execution_count": 43,
      "outputs": [
        {
          "output_type": "execute_result",
          "data": {
            "text/plain": [
              "0    561793\n",
              "1     25904\n",
              "2     23827\n",
              "4     23565\n",
              "3     19663\n",
              "Name: Label, dtype: int64"
            ]
          },
          "metadata": {},
          "execution_count": 43
        }
      ]
    },
    {
      "cell_type": "code",
      "source": [
        "%%time\n",
        "# Train the LightGBM algorithm\n",
        "import lightgbm as lgb\n",
        "lg = lgb.LGBMClassifier()\n",
        "lg.fit(X_train, y_train)\n",
        "y_pred = lg.predict(X_test)\n",
        "print(classification_report(y_test,y_pred))\n",
        "print(\"Accuracy of LightGBM: \"+ str(accuracy_score(y_test, y_pred)))\n",
        "print(\"Precision of LightGBM: \"+ str(precision_score(y_test, y_pred, average='weighted')))\n",
        "print(\"Recall of LightGBM: \"+ str(recall_score(y_test, y_pred, average='weighted')))\n",
        "print(\"Average F1 of LightGBM: \"+ str(f1_score(y_test, y_pred, average='weighted')))\n",
        "print(\"F1 of LightGBM for each type of attack: \"+ str(f1_score(y_test, y_pred, average=None)))\n",
        "lg_f1=f1_score(y_test, y_pred, average=None)\n",
        "\n",
        "# Plot the confusion matrix\n",
        "cm=confusion_matrix(y_test,y_pred)\n",
        "f,ax=plt.subplots(figsize=(5,5))\n",
        "sns.heatmap(cm,annot=True,linewidth=0.5,linecolor=\"red\",fmt=\".0f\",ax=ax)\n",
        "plt.xlabel(\"y_pred\")\n",
        "plt.ylabel(\"y_true\")\n",
        "plt.show()"
      ],
      "metadata": {
        "colab": {
          "base_uri": "https://localhost:8080/",
          "height": 669
        },
        "id": "EAn8K-G4ecYX",
        "outputId": "282998f0-233f-496c-c32e-8aa4d1441707"
      },
      "execution_count": 44,
      "outputs": [
        {
          "output_type": "stream",
          "name": "stdout",
          "text": [
            "              precision    recall  f1-score   support\n",
            "\n",
            "           0       1.00      1.00      1.00    140039\n",
            "           1       1.00      1.00      1.00      6635\n",
            "           2       1.00      1.00      1.00      6117\n",
            "           3       1.00      1.00      1.00      4961\n",
            "           4       1.00      1.00      1.00      5936\n",
            "\n",
            "    accuracy                           1.00    163688\n",
            "   macro avg       1.00      1.00      1.00    163688\n",
            "weighted avg       1.00      1.00      1.00    163688\n",
            "\n",
            "Accuracy of LightGBM: 0.9999877816333512\n",
            "Precision of LightGBM: 0.9999877818078482\n",
            "Recall of LightGBM: 0.9999877816333512\n",
            "Average F1 of LightGBM: 0.9999877804452856\n",
            "F1 of LightGBM for each type of attack: [0.99999286 1.         1.         0.99979839 1.        ]\n"
          ]
        },
        {
          "output_type": "display_data",
          "data": {
            "text/plain": [
              "<Figure size 360x360 with 2 Axes>"
            ],
            "image/png": "[encoded data removed]"
          },
          "metadata": {
            "needs_background": "light"
          }
        },
        {
          "output_type": "stream",
          "name": "stdout",
          "text": [
            "CPU times: user 51.4 s, sys: 383 ms, total: 51.8 s\n",
            "Wall time: 1min 1s\n"
          ]
        }
      ]
    },
    {
      "cell_type": "code",
      "source": [
        "%%time\n",
        "# Train the XGBoost algorithm\n",
        "import xgboost as xgb\n",
        "xg = xgb.XGBClassifier()\n",
        "\n",
        "X_train_x = X_train.values\n",
        "X_test_x = X_test.values\n",
        "\n",
        "xg.fit(X_train_x, y_train)\n",
        "\n",
        "y_pred = xg.predict(X_test_x)\n",
        "print(classification_report(y_test,y_pred))\n",
        "print(\"Accuracy of XGBoost: \"+ str(accuracy_score(y_test, y_pred)))\n",
        "print(\"Precision of XGBoost: \"+ str(precision_score(y_test, y_pred, average='weighted')))\n",
        "print(\"Recall of XGBoost: \"+ str(recall_score(y_test, y_pred, average='weighted')))\n",
        "print(\"Average F1 of XGBoost: \"+ str(f1_score(y_test, y_pred, average='weighted')))\n",
        "print(\"F1 of XGBoost for each type of attack: \"+ str(f1_score(y_test, y_pred, average=None)))\n",
        "xg_f1=f1_score(y_test, y_pred, average=None)\n",
        "\n",
        "# Plot the confusion matrix\n",
        "cm=confusion_matrix(y_test,y_pred)\n",
        "f,ax=plt.subplots(figsize=(5,5))\n",
        "sns.heatmap(cm,annot=True,linewidth=0.5,linecolor=\"red\",fmt=\".0f\",ax=ax)\n",
        "plt.xlabel(\"y_pred\")\n",
        "plt.ylabel(\"y_true\")\n",
        "plt.show()"
      ],
      "metadata": {
        "colab": {
          "base_uri": "https://localhost:8080/",
          "height": 669
        },
        "id": "5JIUb78ee7Vo",
        "outputId": "ab358351-f13a-47e7-a3e5-72992644e2da"
      },
      "execution_count": 45,
      "outputs": [
        {
          "output_type": "stream",
          "name": "stdout",
          "text": [
            "              precision    recall  f1-score   support\n",
            "\n",
            "           0       1.00      1.00      1.00    140039\n",
            "           1       1.00      1.00      1.00      6635\n",
            "           2       1.00      1.00      1.00      6117\n",
            "           3       1.00      1.00      1.00      4961\n",
            "           4       1.00      1.00      1.00      5936\n",
            "\n",
            "    accuracy                           1.00    163688\n",
            "   macro avg       1.00      1.00      1.00    163688\n",
            "weighted avg       1.00      1.00      1.00    163688\n",
            "\n",
            "Accuracy of XGBoost: 0.9998594887835394\n",
            "Precision of XGBoost: 0.9998594271047018\n",
            "Recall of XGBoost: 0.9998594887835394\n",
            "Average F1 of XGBoost: 0.9998593861733049\n",
            "F1 of XGBoost for each type of attack: [0.99991788 1.         1.         0.99767841 1.        ]\n"
          ]
        },
        {
          "output_type": "display_data",
          "data": {
            "text/plain": [
              "<Figure size 360x360 with 2 Axes>"
            ],
            "image/png": "[encoded data removed]"
          },
          "metadata": {
            "needs_background": "light"
          }
        },
        {
          "output_type": "stream",
          "name": "stdout",
          "text": [
            "CPU times: user 3min 36s, sys: 518 ms, total: 3min 36s\n",
            "Wall time: 3min 49s\n"
          ]
        }
      ]
    },
    {
      "cell_type": "code",
      "source": [
        "%%time\n",
        "# Train the CatBoost algorithm\n",
        "import catboost as cbt\n",
        "cb = cbt.CatBoostClassifier(verbose=0,boosting_type='Plain')\n",
        "#cb = cbt.CatBoostClassifier()\n",
        "\n",
        "cb.fit(X_train, y_train)\n",
        "y_pred = cb.predict(X_test)\n",
        "print(classification_report(y_test,y_pred))\n",
        "print(\"Accuracy of CatBoost: \"+ str(accuracy_score(y_test, y_pred)))\n",
        "print(\"Precision of CatBoost: \"+ str(precision_score(y_test, y_pred, average='weighted')))\n",
        "print(\"Recall of CatBoost: \"+ str(recall_score(y_test, y_pred, average='weighted')))\n",
        "print(\"Average F1 of CatBoost: \"+ str(f1_score(y_test, y_pred, average='weighted')))\n",
        "print(\"F1 of CatBoost for each type of attack: \"+ str(f1_score(y_test, y_pred, average=None)))\n",
        "cb_f1=f1_score(y_test, y_pred, average=None)\n",
        "\n",
        "# Plot the confusion matrix\n",
        "cm=confusion_matrix(y_test,y_pred)\n",
        "f,ax=plt.subplots(figsize=(5,5))\n",
        "sns.heatmap(cm,annot=True,linewidth=0.5,linecolor=\"red\",fmt=\".0f\",ax=ax)\n",
        "plt.xlabel(\"y_pred\")\n",
        "plt.ylabel(\"y_true\")\n",
        "plt.show()"
      ],
      "metadata": {
        "colab": {
          "base_uri": "https://localhost:8080/",
          "height": 669
        },
        "id": "-Gvsk3oxgJng",
        "outputId": "bd1db821-e20c-436c-d370-030ffda6be10"
      },
      "execution_count": 46,
      "outputs": [
        {
          "output_type": "stream",
          "name": "stdout",
          "text": [
            "              precision    recall  f1-score   support\n",
            "\n",
            "           0       1.00      1.00      1.00    140039\n",
            "           1       1.00      1.00      1.00      6635\n",
            "           2       1.00      1.00      1.00      6117\n",
            "           3       1.00      1.00      1.00      4961\n",
            "           4       1.00      1.00      1.00      5936\n",
            "\n",
            "    accuracy                           1.00    163688\n",
            "   macro avg       1.00      1.00      1.00    163688\n",
            "weighted avg       1.00      1.00      1.00    163688\n",
            "\n",
            "Accuracy of CatBoost: 0.9999755632667026\n",
            "Precision of CatBoost: 0.9999755639646806\n",
            "Recall of CatBoost: 0.9999755632667026\n",
            "Average F1 of CatBoost: 0.9999755585134452\n",
            "F1 of CatBoost for each type of attack: [0.99998572 1.         1.         0.99959669 1.        ]\n"
          ]
        },
        {
          "output_type": "display_data",
          "data": {
            "text/plain": [
              "<Figure size 360x360 with 2 Axes>"
            ],
            "image/png": "[encoded data removed]"
          },
          "metadata": {
            "needs_background": "light"
          }
        },
        {
          "output_type": "stream",
          "name": "stdout",
          "text": [
            "CPU times: user 12min 18s, sys: 8.21 s, total: 12min 26s\n",
            "Wall time: 7min 55s\n"
          ]
        }
      ]
    },
    {
      "cell_type": "code",
      "source": [
        "model=[]\n",
        "for i in range(len(lg_f1)):\n",
        "    if max(lg_f1[i],xg_f1[i],cb_f1[i]) == lg_f1[i]:\n",
        "        model.append(lg)\n",
        "    elif max(lg_f1[i],xg_f1[i],cb_f1[i]) == xg_f1[i]:\n",
        "        model.append(xg)\n",
        "    else:\n",
        "        model.append(cb)"
      ],
      "metadata": {
        "id": "_Ej7CeMZiC1K"
      },
      "execution_count": 47,
      "outputs": []
    },
    {
      "cell_type": "code",
      "source": [
        "model"
      ],
      "metadata": {
        "colab": {
          "base_uri": "https://localhost:8080/"
        },
        "id": "6tt8VTJXiFww",
        "outputId": "a7b09935-2c29-494a-f2cd-3163c9e66bb0"
      },
      "execution_count": 48,
      "outputs": [
        {
          "output_type": "execute_result",
          "data": {
            "text/plain": [
              "[LGBMClassifier(),\n",
              " LGBMClassifier(),\n",
              " LGBMClassifier(),\n",
              " LGBMClassifier(),\n",
              " LGBMClassifier()]"
            ]
          },
          "metadata": {},
          "execution_count": 48
        }
      ]
    },
    {
      "cell_type": "code",
      "source": [
        "def LCCDE(X_test, y_test, m1, m2, m3):\n",
        "    i = 0\n",
        "    t = []\n",
        "    m = []\n",
        "    yt = []\n",
        "    yp = []\n",
        "    l = []\n",
        "    pred_l = []\n",
        "    pro_l = []\n",
        "\n",
        "    # For each class (normal or a type of attack), find the leader model\n",
        "    for xi, yi in stream.iter_pandas(X_test, y_test):\n",
        "\n",
        "        xi2=np.array(list(xi.values()))\n",
        "        y_pred1 = m1.predict(xi2.reshape(1, -1))      # model 1 (LightGBM) makes a prediction on text sample xi\n",
        "        y_pred1 = int(y_pred1[0])\n",
        "        y_pred2 = m2.predict(xi2.reshape(1, -1))      # model 2 (XGBoost) makes a prediction on text sample xi\n",
        "        y_pred2 = int(y_pred2[0])\n",
        "        y_pred3 = m3.predict(xi2.reshape(1, -1))      # model 3 (Catboost) makes a prediction on text sample xi\n",
        "        y_pred3 = int(y_pred3[0])\n",
        "\n",
        "        p1 = m1.predict_proba(xi2.reshape(1, -1))     # The prediction probability (confidence) list of model 1 \n",
        "        p2 = m2.predict_proba(xi2.reshape(1, -1))     # The prediction probability (confidence) list of model 2  \n",
        "        p3 = m3.predict_proba(xi2.reshape(1, -1))     # The prediction probability (confidence) list of model 3  \n",
        "\n",
        "        # Find the highest prediction probability among all classes for each ML model\n",
        "        y_pred_p1 = np.max(p1)\n",
        "        y_pred_p2 = np.max(p2)\n",
        "        y_pred_p3 = np.max(p3)\n",
        "\n",
        "        if y_pred1 == y_pred2 == y_pred3: # If the predicted classes of all the three models are the same\n",
        "            y_pred = y_pred1 # Use this predicted class as the final predicted class\n",
        "\n",
        "        elif y_pred1 != y_pred2 != y_pred3: # If the predicted classes of all the three models are different\n",
        "            # For each prediction model, check if the predicted class’s original ML model is the same as its leader model\n",
        "            if model[y_pred1]==m1: # If they are the same and the leading model is model 1 (LightGBM)\n",
        "                l.append(m1)\n",
        "                pred_l.append(y_pred1) # Save the predicted class\n",
        "                pro_l.append(y_pred_p1) # Save the confidence\n",
        "\n",
        "            if model[y_pred2]==m2: # If they are the same and the leading model is model 2 (XGBoost)\n",
        "                l.append(m2)\n",
        "                pred_l.append(y_pred2)\n",
        "                pro_l.append(y_pred_p2)\n",
        "\n",
        "            if model[y_pred3]==m3: # If they are the same and the leading model is model 3 (CatBoost)\n",
        "                l.append(m3)\n",
        "                pred_l.append(y_pred3)\n",
        "                pro_l.append(y_pred_p3)\n",
        "\n",
        "            if len(l)==0: # Avoid empty probability list\n",
        "                pro_l=[y_pred_p1,y_pred_p2,y_pred_p3]\n",
        "\n",
        "            elif len(l)==1: # If only one pair of the original model and the leader model for each predicted class is the same\n",
        "                y_pred=pred_l[0] # Use the predicted class of the leader model as the final prediction class\n",
        "\n",
        "            else: # If no pair or multiple pairs of the original prediction model and the leader model for each predicted class are the same\n",
        "                max_p = max(pro_l) # Find the highest confidence\n",
        "                \n",
        "                # Use the predicted class with the highest confidence as the final prediction class\n",
        "                if max_p == y_pred_p1:\n",
        "                    y_pred = y_pred1\n",
        "                elif max_p == y_pred_p2:\n",
        "                    y_pred = y_pred2\n",
        "                else:\n",
        "                    y_pred = y_pred3  \n",
        "        \n",
        "        else: # If two predicted classes are the same and the other one is different\n",
        "            n = mode([y_pred1,y_pred2,y_pred3]) # Find the predicted class with the majority vote\n",
        "            y_pred = model[n].predict(xi2.reshape(1, -1)) # Use the predicted class of the leader model as the final prediction class\n",
        "            y_pred = int(y_pred[0]) \n",
        "\n",
        "        yt.append(yi)\n",
        "        yp.append(y_pred) # Save the predicted classes for all tested samples\n",
        "    return yt, yp\n"
      ],
      "metadata": {
        "id": "5oF9OkDGihHX"
      },
      "execution_count": 49,
      "outputs": []
    },
    {
      "cell_type": "code",
      "source": [
        "yt, yp = LCCDE(X_test, y_test, m1 = lg, m2 = xg, m3 = cb)"
      ],
      "metadata": {
        "id": "bNZkLyJJiwAv"
      },
      "execution_count": 50,
      "outputs": []
    },
    {
      "cell_type": "code",
      "source": [
        "print(\"Accuracy of LCCDE: \"+ str(accuracy_score(yt, yp)))\n",
        "print(\"Precision of LCCDE: \"+ str(precision_score(yt, yp, average='weighted')))\n",
        "print(\"Recall of LCCDE: \"+ str(recall_score(yt, yp, average='weighted')))\n",
        "print(\"Average F1 of LCCDE: \"+ str(f1_score(yt, yp, average='weighted')))\n",
        "print(\"F1 of LCCDE for each type of attack: \"+ str(f1_score(yt, yp, average=None)))"
      ],
      "metadata": {
        "colab": {
          "base_uri": "https://localhost:8080/"
        },
        "id": "8pWa3_gA1Qov",
        "outputId": "00990097-db30-4dec-c2c5-a1cd12f224d7"
      },
      "execution_count": 51,
      "outputs": [
        {
          "output_type": "stream",
          "name": "stdout",
          "text": [
            "Accuracy of LCCDE: 0.9999877816333512\n",
            "Precision of LCCDE: 0.9999877818078482\n",
            "Recall of LCCDE: 0.9999877816333512\n",
            "Average F1 of LCCDE: 0.9999877804452856\n",
            "F1 of LCCDE for each type of attack: [0.99999286 1.         1.         0.99979839 1.        ]\n"
          ]
        }
      ]
    },
    {
      "cell_type": "code",
      "source": [
        "print(\"F1 of LightGBM for each type of attack: \"+ str(lg_f1))\n",
        "print(\"F1 of XGBoost for each type of attack: \"+ str(xg_f1))\n",
        "print(\"F1 of CatBoost for each type of attack: \"+ str(cb_f1))"
      ],
      "metadata": {
        "colab": {
          "base_uri": "https://localhost:8080/"
        },
        "id": "25M2BNSW1rRf",
        "outputId": "b013a3df-745f-4cef-ca0a-3125c8a953d4"
      },
      "execution_count": 52,
      "outputs": [
        {
          "output_type": "stream",
          "name": "stdout",
          "text": [
            "F1 of LightGBM for each type of attack: [0.99999286 1.         1.         0.99979839 1.        ]\n",
            "F1 of XGBoost for each type of attack: [0.99991788 1.         1.         0.99767841 1.        ]\n",
            "F1 of CatBoost for each type of attack: [0.99998572 1.         1.         0.99959669 1.        ]\n"
          ]
        }
      ]
    }
  ]
}